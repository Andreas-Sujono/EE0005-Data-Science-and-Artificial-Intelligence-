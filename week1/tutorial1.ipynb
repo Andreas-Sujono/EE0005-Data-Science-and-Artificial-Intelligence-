{
 "cells": [
  {
   "cell_type": "markdown",
   "metadata": {},
   "source": [
    "## Tutorial 1 problem"
   ]
  },
  {
   "cell_type": "markdown",
   "metadata": {},
   "source": [
    "## Q1"
   ]
  },
  {
   "cell_type": "code",
   "execution_count": 1,
   "metadata": {},
   "outputs": [
    {
     "name": "stdout",
     "output_type": "stream",
     "text": [
      "captainhook@neverland.com\n",
      "cleopatra@pharaoh.org\n",
      "d.vader@empire.net\n",
      "alice@wonderland.co.uk\n",
      "\n"
     ]
    }
   ],
   "source": [
    "try:\n",
    "    fp = open('blocklist.txt','r')\n",
    "    text = fp.read()\n",
    "    print(text)\n",
    "    fp.close()\n",
    "except FileNotFoundError as err:\n",
    "    print('file is not found')\n",
    "    "
   ]
  },
  {
   "cell_type": "code",
   "execution_count": 2,
   "metadata": {
    "scrolled": false
   },
   "outputs": [
    {
     "data": {
      "text/plain": [
       "['captainhook@neverland.com',\n",
       " 'cleopatra@pharaoh.org',\n",
       " 'd.vader@empire.net',\n",
       " 'alice@wonderland.co.uk',\n",
       " '']"
      ]
     },
     "execution_count": 2,
     "metadata": {},
     "output_type": "execute_result"
    }
   ],
   "source": [
    "blocklist = text.split('\\n')\n",
    "blocklist"
   ]
  },
  {
   "cell_type": "markdown",
   "metadata": {},
   "source": [
    "## Q2"
   ]
  },
  {
   "cell_type": "code",
   "execution_count": 3,
   "metadata": {},
   "outputs": [
    {
     "name": "stdout",
     "output_type": "stream",
     "text": [
      "brucelee@fistoffury.com\n",
      "d.vader@empire.net\n",
      "usain.bolt@runnersclub.org\n",
      "alice@wonderland.co.uk\n",
      "nero@rome.com\n",
      "mcurie@radium.com\n"
     ]
    }
   ],
   "source": [
    "try:\n",
    "    fp = open('visitors.txt','r')\n",
    "    text2 = fp.read()\n",
    "    print(text2)\n",
    "    fp.close()\n",
    "except FileNotFoundError as err:\n",
    "    print('file is not found')\n",
    "    "
   ]
  },
  {
   "cell_type": "code",
   "execution_count": 4,
   "metadata": {},
   "outputs": [],
   "source": [
    "visitors = text2.split('\\n')"
   ]
  },
  {
   "cell_type": "code",
   "execution_count": 5,
   "metadata": {},
   "outputs": [],
   "source": [
    "visitorBlocked = [visitor for visitor in visitors if visitor in blocklist]"
   ]
  },
  {
   "cell_type": "code",
   "execution_count": 6,
   "metadata": {},
   "outputs": [
    {
     "name": "stdout",
     "output_type": "stream",
     "text": [
      "['d.vader@empire.net', 'alice@wonderland.co.uk']\n"
     ]
    }
   ],
   "source": [
    "print([name for name in visitorBlocked])"
   ]
  },
  {
   "cell_type": "markdown",
   "metadata": {},
   "source": [
    "## Q3"
   ]
  },
  {
   "cell_type": "code",
   "execution_count": 7,
   "metadata": {},
   "outputs": [],
   "source": [
    "try:\n",
    "    fp = open('blocklist.txt','a')\n",
    "    fp.write('alice@wonderland.co.uk\\n')\n",
    "    fp.close()\n",
    "except FileNotFoundError as err:\n",
    "    print('file is not found')\n",
    "    "
   ]
  },
  {
   "cell_type": "code",
   "execution_count": 8,
   "metadata": {},
   "outputs": [
    {
     "name": "stdout",
     "output_type": "stream",
     "text": [
      "captainhook@neverland.com\n",
      "cleopatra@pharaoh.org\n",
      "d.vader@empire.net\n",
      "alice@wonderland.co.uk\n",
      "alice@wonderland.co.uk\n",
      "\n"
     ]
    }
   ],
   "source": [
    "try:\n",
    "    fp = open('blocklist.txt','r')\n",
    "    text = fp.read()\n",
    "    print(text)\n",
    "    fp.close()\n",
    "except FileNotFoundError as err:\n",
    "    print('file is not found')\n",
    "    "
   ]
  }
 ],
 "metadata": {
  "kernelspec": {
   "display_name": "Python 3",
   "language": "python",
   "name": "python3"
  },
  "language_info": {
   "codemirror_mode": {
    "name": "ipython",
    "version": 3
   },
   "file_extension": ".py",
   "mimetype": "text/x-python",
   "name": "python",
   "nbconvert_exporter": "python",
   "pygments_lexer": "ipython3",
   "version": "3.7.3"
  }
 },
 "nbformat": 4,
 "nbformat_minor": 2
}
